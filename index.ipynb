{
 "cells": [
  {
   "cell_type": "markdown",
   "metadata": {},
   "source": [
    "# Audio Technology - Examples\n",
    "\n",
    "This repository holds some Jupyter notebooks (using the IPython kernel) which are part of the course material for the the lecture \"Audio Technology\" at [Audio-Visual Application Design](http://www.filmuniversitaet.de/en/study-application/ma-courses/av-application-design.html)/[Filmuniversität Babelsberg KONRAD WOLF](http://www.filmuniversitaet.de/).\n",
    "\n",
    "The lectures are held each winter semester, starting in 2016.\n",
    "\n",
    "The notebooks and all additional files should be considered as [Open Educational Resources](https://en.wikipedia.org/wiki/Open_educational_resources)."
   ]
  },
  {
   "cell_type": "markdown",
   "metadata": {},
   "source": [
    "The examples are structured in the same way as the lectures, containing one example per lecture:\n",
    "\n",
    "1. [Introduction to Python et al., Working with Audio Signals](00_intro.ipynb)\n",
    "\n",
    "1. [Fourier transform](01_fourier_transform.ipynb)\n",
    "\n",
    "1. [Convolution and impulse responses](02_signal_processing.ipynb)\n",
    "\n",
    "1. ..."
   ]
  },
  {
   "cell_type": "markdown",
   "metadata": {},
   "source": [
    "## Getting Started\n",
    "\n",
    "The Jupyter notebooks for each topic are available as [static web pages](http://nbviewer.jupyter.org/github/Filmuni-AVAD/audiotechnology-examples/) as well as for interactive use with [Jupyter](http://jupyter.org/), to be [downloaded from Github](http://github.com/Filmuni-AVAD/audiotechnology-examples).\n",
    "\n",
    "### Install Python\n",
    "\n",
    "Make sure you always use Python 3!\n",
    "\n",
    "If you don't have Python installed already, you should download and install a Python distribution which already includes all the libraries we'll need, e.g. [Anaconda](https://www.continuum.io/downloads) (make sure to choose Python version 3.x).\n",
    "\n",
    "If you're using Linux (Debian/Ubuntu/...), you can use the following commands to install the necessary packages:\n",
    "\n",
    "    sudo apt-get update\n",
    "    sudo apt-get install python3 python3-pip python3-numpy python3-scipy python3-matplotlib python3-cffi libsndfile1 libportaudio2\n",
    "\n",
    "### Get the Notebooks and Start Jupyter\n",
    "\n",
    "Use [Git](http://git-scm.org/) to download the files (or download the [zip file](https://github.com/Filmuni-AVAD/audiotechnology-examples/archive/master.zip)), use the Python package management system [pip](http://www.pip-installer.org/) to install a few Python libraries that we will use and then start the Jupyter notebook:\n",
    "\n",
    "    git clone https://github.com/spatialaudio/communication-acoustics-exercises.git\n",
    "    cd communication-acoustics-exercises\n",
    "    python3 -m pip install -r requirements.txt --user\n",
    "    python3 -m notebook\n",
    "    \n",
    "This will open a new view in your web browser with a list of notebooks.\n",
    "Click on [00_intro.ipynb](00_intro.ipynb) (or any of the other available notebooks) and enjoy!\n",
    "If you are new to Git, have a look at this [introduction to Git](http://docs.twoears.eu/en/latest/dev/git/git-for-beginners/)."
   ]
  },
  {
   "cell_type": "markdown",
   "metadata": {},
   "source": [
    "## Interactive Online Version\n",
    "\n",
    "If you don't feel like installing Jupyter/IPython, but still want to try out the notebooks, you can [![Binder](http://mybinder.org/badge.svg)](http://mybinder.org/repo/Filmuni-AVAD/audiotechnology-examples) and start playing around immediately.\n",
    "\n",
    "Note, however, that your changes will not be preserved.\n",
    "Once you close your browser, everything will be lost!"
   ]
  },
  {
   "cell_type": "markdown",
   "metadata": {},
   "source": [
    "## Resources\n",
    "\n",
    "This examples are heavily based on the course [Communication Acoustics - Exercises](https://github.com/spatialaudio/selected-topics-in-audio-signal-processing-exercises).\n",
    "\n",
    "At Aalto University, Ville Pulkki gives a lecture called \"Communication Acoustics\" which is also available as a book (ISBN: 978-1-118-86654-2).\n",
    "The lecture slides and some other materials including audio examples are available at http://users.aalto.fi/~vpulkki/Communication_Acoustics/.\n",
    "\n",
    "Coursera.org offers a free online course with video lectures called [Audio Signal Processing for Music Applications](https://www.coursera.org/course/audio), which is taught by Xavier Serra and Julius O Smith, III.\n",
    "The topic is not quite the same, but the introductory units are similar and they are using Python, too!"
   ]
  },
  {
   "cell_type": "markdown",
   "metadata": {},
   "source": [
    "## Copyright Information\n",
    "\n",
    "<p xmlns:dct=\"http://purl.org/dc/terms/\">\n",
    "  <a rel=\"license\"\n",
    "     href=\"http://creativecommons.org/publicdomain/zero/1.0/\">\n",
    "    <img src=\"http://i.creativecommons.org/p/zero/1.0/88x31.png\" style=\"border-style: none;\" alt=\"CC0\" />\n",
    "  </a>\n",
    "  <br />\n",
    "  To the extent possible under law,\n",
    "  <span rel=\"dct:publisher\" resource=\"[_:publisher]\">the person who associated CC0</span>\n",
    "  with this work has waived all copyright and related or neighboring\n",
    "  rights to this work.\n",
    "</p>"
   ]
  }
 ],
 "metadata": {
  "kernelspec": {
   "display_name": "Python 3",
   "language": "python",
   "name": "python3"
  },
  "language_info": {
   "codemirror_mode": {
    "name": "ipython",
    "version": 3
   },
   "file_extension": ".py",
   "mimetype": "text/x-python",
   "name": "python",
   "nbconvert_exporter": "python",
   "pygments_lexer": "ipython3",
   "version": "3.5.2"
  }
 },
 "nbformat": 4,
 "nbformat_minor": 1
}
