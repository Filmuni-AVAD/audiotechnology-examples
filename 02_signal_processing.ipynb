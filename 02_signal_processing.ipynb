{
 "cells": [
  {
   "cell_type": "markdown",
   "metadata": {
    "collapsed": true
   },
   "source": [
    "# Impulse responses and convolution\n",
    "\n",
    "In this notebook we will investigate an unknown digital system.\n",
    "The only information we have about this system is that it is LTI (linear and time invariant) and that it is defined by the function `tools.blackbox()` in the file [tools.py](tools.py).\n",
    "\n",
    "To be able to use it, we have to import it:"
   ]
  },
  {
   "cell_type": "code",
   "execution_count": 1,
   "metadata": {
    "collapsed": false
   },
   "outputs": [],
   "source": [
    "%matplotlib inline\n",
    "import matplotlib.pyplot as plt\n",
    "import numpy as np\n",
    "from scipy import signal\n",
    "import soundfile as sf\n",
    "import tools"
   ]
  },
  {
   "cell_type": "markdown",
   "metadata": {},
   "source": [
    "After that, we have a look at the documentation of blackbox:"
   ]
  },
  {
   "cell_type": "code",
   "execution_count": 2,
   "metadata": {
    "collapsed": true
   },
   "outputs": [],
   "source": [
    "tools.blackbox?"
   ]
  },
  {
   "cell_type": "markdown",
   "metadata": {
    "collapsed": true
   },
   "source": [
    "In this notebook, we'll try to find out as many things as possible about this system, without looking at its source code.\n",
    "Later, we'll also have a quick look at a non-linear system."
   ]
  },
  {
   "cell_type": "markdown",
   "metadata": {},
   "source": [
    "## Listening to the system\n",
    "\n",
    "We load the audio file [data/xmas.wav](data/xmas.wav) and apply the function `tools.blackbox()` to it."
   ]
  },
  {
   "cell_type": "code",
   "execution_count": 3,
   "metadata": {
    "collapsed": false
   },
   "outputs": [
    {
     "data": {
      "text/plain": [
       "44100"
      ]
     },
     "execution_count": 3,
     "metadata": {},
     "output_type": "execute_result"
    }
   ],
   "source": [
    "sig, fs = sf.read('data/xmas.wav')\n",
    "fs"
   ]
  },
  {
   "cell_type": "markdown",
   "metadata": {},
   "source": [
    "We listen to the result. Compare the original signal and the resulting signal.\n",
    "What does the system realized by `tools.blackbox()` sound like?"
   ]
  },
  {
   "cell_type": "code",
   "execution_count": 4,
   "metadata": {
    "collapsed": true
   },
   "outputs": [],
   "source": [
    "sig_blackbox = tools.blackbox(sig, fs)\n",
    "sf.write('data/xmas_blackbox.wav', sig_blackbox, fs)"
   ]
  },
  {
   "cell_type": "markdown",
   "metadata": {},
   "source": [
    "<audio src=\"data/xmas.wav\" controls>Your browser does not support the audio element.</audio>\n",
    "[data/xmas.wav](data/xmas.wav)\n",
    "\n",
    "<audio src=\"data/xmas_blackbox.wav\" controls>Your browser does not support the audio element.</audio>\n",
    "[data/xmas_blackbox.wav](data/xmas_blackbox.wav)"
   ]
  },
  {
   "cell_type": "markdown",
   "metadata": {},
   "source": [
    "## Obtaining the impulse response\n",
    "\n",
    "As an LTI system can be completely described by its impulse response (which may be infinitely long, however), we generate one.\n",
    "\n",
    "For that we start by creating a Dirac unit impulse.\n",
    "To get a meaningful response, append zeros (this is called *zero-padding*) to your unit impulse signal until it has a total length of $\\frac{1}{10}$ of a second."
   ]
  },
  {
   "cell_type": "code",
   "execution_count": 5,
   "metadata": {
    "collapsed": false
   },
   "outputs": [],
   "source": [
    "dur = 1/10  # seconds\n",
    "imp = np.zeros(int(np.ceil(dur * fs)))\n",
    "imp[0] = 1"
   ]
  },
  {
   "cell_type": "markdown",
   "metadata": {
    "collapsed": true
   },
   "source": [
    "To do that, use a unit impulse as input to the system.\n",
    "The resulting output is the impulse response.\n",
    "To get a meaningful response, append zeros (this is called *zero-padding*) to your unit impulse signal until it has a total length of $\\frac{1}{10}$ of a second."
   ]
  },
  {
   "cell_type": "markdown",
   "metadata": {},
   "source": [
    "Now we get the impulse response and look at it."
   ]
  },
  {
   "cell_type": "code",
   "execution_count": 6,
   "metadata": {
    "collapsed": true
   },
   "outputs": [],
   "source": [
    "ir = tools.blackbox(imp, fs)"
   ]
  },
  {
   "cell_type": "code",
   "execution_count": 7,
   "metadata": {
    "collapsed": false
   },
   "outputs": [
    {
     "data": {
      "text/plain": [
       "[<matplotlib.lines.Line2D at 0x7fb5ed626fd0>]"
      ]
     },
     "execution_count": 7,
     "metadata": {},
     "output_type": "execute_result"
    },
    {
     "data": {
      "image/png": "[encoded data removed]",
      "text/plain": [
       "<matplotlib.figure.Figure at 0x7fb5f052eb00>"
      ]
     },
     "metadata": {},
     "output_type": "display_data"
    }
   ],
   "source": [
    "t = np.arange(len(imp)) / fs\n",
    "plt.plot(t, ir)"
   ]
  },
  {
   "cell_type": "markdown",
   "metadata": {},
   "source": [
    "Now we look at the transfer function, which can easily be calculated by using the function [scipy.signal.freqz()](http://docs.scipy.org/doc/scipy/reference/generated/scipy.signal.freqz.html)."
   ]
  },
  {
   "cell_type": "code",
   "execution_count": 8,
   "metadata": {
    "collapsed": false
   },
   "outputs": [
    {
     "data": {
      "text/plain": [
       "[<matplotlib.lines.Line2D at 0x7fb5ed0cda58>]"
      ]
     },
     "execution_count": 8,
     "metadata": {},
     "output_type": "execute_result"
    },
    {
     "data": {
      "image/png": "[encoded data removed]",
      "text/plain": [
       "<matplotlib.figure.Figure at 0x7fb5ef92df98>"
      ]
     },
     "metadata": {},
     "output_type": "display_data"
    }
   ],
   "source": [
    "w, h = signal.freqz(ir)\n",
    "plt.plot(w * fs / (2 * np.pi), np.abs(h))  # linear y axis"
   ]
  },
  {
   "cell_type": "markdown",
   "metadata": {},
   "source": [
    "To obtain more insight about the parts of the impulse response with very small amplitudes, we can try logarithmic scaling."
   ]
  },
  {
   "cell_type": "code",
   "execution_count": 9,
   "metadata": {
    "collapsed": false
   },
   "outputs": [
    {
     "data": {
      "image/png": "[encoded data removed]",
      "text/plain": [
       "<matplotlib.figure.Figure at 0x7fb5ed0a1e48>"
      ]
     },
     "metadata": {},
     "output_type": "display_data"
    }
   ],
   "source": [
    "plt.figure()\n",
    "plt.plot(w * fs / (2 * np.pi), np.abs(h))\n",
    "plt.xscale('log') # logarithmic x axis"
   ]
  },
  {
   "cell_type": "markdown",
   "metadata": {},
   "source": [
    "And finally we plot the magnitude in decibel."
   ]
  },
  {
   "cell_type": "code",
   "execution_count": 10,
   "metadata": {
    "collapsed": false
   },
   "outputs": [
    {
     "data": {
      "image/png": "[encoded data removed]",
      "text/plain": [
       "<matplotlib.figure.Figure at 0x7fb5ed0c6438>"
      ]
     },
     "metadata": {},
     "output_type": "display_data"
    }
   ],
   "source": [
    "plt.plot(w * fs / (2 * np.pi), tools.db(h))\n",
    "plt.xscale('log')\n",
    "plt.ylim(-80, 10);"
   ]
  },
  {
   "cell_type": "markdown",
   "metadata": {},
   "source": [
    "## Naive convolution versus fast convolution\n",
    "\n",
    "Now we directly implement the convolution equation called `naive_convolution()` that computes the convolution of two one-dimensional arrays by means of two nested loops according to the equation\n",
    "\n",
    "$$y(t) = x(t) \\ast h(t) = \\sum_{n=-\\infty}^{\\infty} x(n) \\cdot h(t-n),$$\n",
    "\n",
    "where $x$ and $h$ are one-dimensional arrays of finite lengths.\n",
    "The infinite sum can be changed to a finite sum by assuming that all values before index 0 and all values after the last array element are equal to zero."
   ]
  },
  {
   "cell_type": "code",
   "execution_count": 11,
   "metadata": {
    "collapsed": true
   },
   "outputs": [],
   "source": [
    "import numpy as np\n",
    "\n",
    "def naive_convolution(x, h):\n",
    "    \"\"\"Very inefficient convolution of two one-dimensional arrays.\"\"\"\n",
    "    totalsize = len(x) + len(h) - 1\n",
    "    y = np.zeros(totalsize)  # Allocate and initialize memory\n",
    "    for t in range(totalsize):\n",
    "        # n must be within range(len(x)) and it must meet the condition\n",
    "        # t >= n and (t-n) < len(h)\n",
    "        n_start = max(t + 1 - len(h), 0)\n",
    "        n_stop = min(t + 1, len(x))\n",
    "        for n in range(n_start, n_stop):\n",
    "            y[t] += x[n] * h[t - n]\n",
    "    return y"
   ]
  },
  {
   "cell_type": "markdown",
   "metadata": {},
   "source": [
    "Now we use this function to convolve the audio signal with the impulse response we obtained above.\n",
    "\n",
    "WARNING: The calculation may take a very long time!"
   ]
  },
  {
   "cell_type": "code",
   "execution_count": 12,
   "metadata": {
    "collapsed": false
   },
   "outputs": [
    {
     "name": "stdout",
     "output_type": "stream",
     "text": [
      "CPU times: user 2.96 s, sys: 0 ns, total: 2.96 s\n",
      "Wall time: 2.96 s\n"
     ]
    }
   ],
   "source": [
    "# This takes a loooong time:\n",
    "#sig_naive = naive_convolution(sig, ir)\n",
    "\n",
    "# Let's just try a tiny bit of the signal:\n",
    "%time sig_naive = naive_convolution(sig[:1000], ir)"
   ]
  },
  {
   "cell_type": "markdown",
   "metadata": {},
   "source": [
    "As you know, convolution in the time domain is equivalent to element-wise multiplication in the frequency domain.\n",
    "This can be used for implementing the convolution in a more efficient way as we can see if we try to use the [numpy.convolve()](http://docs.scipy.org/doc/numpy/reference/generated/numpy.convolve.html) function from numpy."
   ]
  },
  {
   "cell_type": "code",
   "execution_count": 13,
   "metadata": {
    "collapsed": false
   },
   "outputs": [
    {
     "name": "stdout",
     "output_type": "stream",
     "text": [
      "CPU times: user 548 ms, sys: 0 ns, total: 548 ms\n",
      "Wall time: 188 ms\n"
     ]
    }
   ],
   "source": [
    "%time sig_convolve = np.convolve(sig, ir)"
   ]
  },
  {
   "cell_type": "markdown",
   "metadata": {},
   "source": [
    "## What if the System is Non-Linear?\n",
    "\n",
    "The function `tools.blackbox_nonlinear()` provides a non-linear system.\n",
    "\n",
    "We apply this system to our input signal and try to describe the non-linear system with an impulse response as well."
   ]
  },
  {
   "cell_type": "code",
   "execution_count": 14,
   "metadata": {
    "collapsed": true
   },
   "outputs": [],
   "source": [
    "sig_blackbox_nonlinear = tools.blackbox_nonlinear(sig, fs)\n",
    "sf.write('data/xmas_blackbox_nonlinear.wav', sig_blackbox_nonlinear, fs)"
   ]
  },
  {
   "cell_type": "markdown",
   "metadata": {},
   "source": [
    "Now we are mesuring the impulse response of the non-linear system and use it to generate another output signal via convolution."
   ]
  },
  {
   "cell_type": "code",
   "execution_count": 15,
   "metadata": {
    "collapsed": true
   },
   "outputs": [],
   "source": [
    "ir_nonlinear = tools.blackbox_nonlinear(imp, fs)\n",
    "sig_nonlinear_convolve = np.convolve(sig, ir_nonlinear)\n",
    "sf.write('data/xmas_convolution_nonlinear.wav', sig_nonlinear_convolve, fs)"
   ]
  },
  {
   "cell_type": "markdown",
   "metadata": {},
   "source": [
    "<audio src=\"data/xmas.wav\" controls>Your browser does not support the audio element.</audio>\n",
    "[original](data/xmas.wav)\n",
    "\n",
    "<audio src=\"data/xmas_blackbox.wav\" controls>Your browser does not support the audio element.</audio>\n",
    "[through `tools.blackbox()`](data/xmas_blackbox.wav)\n",
    "\n",
    "<audio src=\"data/xmas_blackbox_nonlinear.wav\" controls>Your browser does not support the audio element.</audio>\n",
    "[through `tools.blackbox_nonlinear()`](data/xmas_blackbox_nonlinear.wav)\n",
    "\n",
    "<audio src=\"data/xmas_convolution_nonlinear.wav\" controls>Your browser does not support the audio element.</audio>\n",
    "[trying to use the impulse response of the non-linear system (doesn't work!)](data/xmas_convolution_nonlinear.wav)\n",
    "\n",
    "Non-linear systems CANNOT be described by their impulse responses."
   ]
  },
  {
   "cell_type": "markdown",
   "metadata": {},
   "source": [
    "<p xmlns:dct=\"http://purl.org/dc/terms/\">\n",
    "  <a rel=\"license\"\n",
    "     href=\"http://creativecommons.org/publicdomain/zero/1.0/\">\n",
    "    <img src=\"http://i.creativecommons.org/p/zero/1.0/88x31.png\" style=\"border-style: none;\" alt=\"CC0\" />\n",
    "  </a>\n",
    "  <br />\n",
    "  To the extent possible under law,\n",
    "  <span rel=\"dct:publisher\" resource=\"[_:publisher]\">the person who associated CC0</span>\n",
    "  with this work has waived all copyright and related or neighboring\n",
    "  rights to this work.\n",
    "</p>"
   ]
  }
 ],
 "metadata": {
  "anaconda-cloud": {},
  "kernelspec": {
   "display_name": "Python 3",
   "language": "python",
   "name": "python3"
  },
  "language_info": {
   "codemirror_mode": {
    "name": "ipython",
    "version": 3
   },
   "file_extension": ".py",
   "mimetype": "text/x-python",
   "name": "python",
   "nbconvert_exporter": "python",
   "pygments_lexer": "ipython3",
   "version": "3.5.2"
  }
 },
 "nbformat": 4,
 "nbformat_minor": 1
}
